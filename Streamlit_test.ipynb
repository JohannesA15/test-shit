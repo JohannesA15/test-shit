{
 "cells": [
  {
   "cell_type": "code",
   "execution_count": 1,
   "id": "4347ed49",
   "metadata": {},
   "outputs": [
    {
     "name": "stderr",
     "output_type": "stream",
     "text": [
      "2022-05-23 12:59:05.116 INFO    numexpr.utils: NumExpr defaulting to 8 threads.\n",
      "2022-05-23 12:59:05.758 \n",
      "  \u001b[33m\u001b[1mWarning:\u001b[0m to view this Streamlit app on a browser, run it with the following\n",
      "  command:\n",
      "\n",
      "    streamlit run /Users/johannes/opt/anaconda3/lib/python3.9/site-packages/ipykernel_launcher.py [ARGUMENTS]\n"
     ]
    }
   ],
   "source": [
    "import streamlit as st\n",
    "import json as js\n",
    "\n",
    "st.title('Political Party Classification')\n",
    "\n",
    "st.header('Erste Aufgabe: Vorstellung')\n",
    "\n",
    "st.subheader('Unser Team')\n",
    "\n",
    "st.text('Hallo zusammen,\\nwir sind Johannes Ackermann, Simon Müller und Dominik Rolof.\\nWir studieren Wirtschaftsinfo und wünschen uns allen ein erfolgreiches Semester.\\nUnser Projekt befasst sich mit der Klassifizierung\\neinzelner Politiker in Parteien anhand ihrer Tweets')\n",
    "\n",
    "file = open('/Users/johannes/JupyterProjects/test1/data/Philipp_Amthor.jl')\n",
    "data = js.load(file)\n",
    "\n",
    "if st.button('Beispiel eines Datensatzes'):\n",
    "    st.markdown(data)\n",
    "option = st.selectbox('Möchtest du sehen, wem der Datensatz gehört?', ('Bitte auswählen...', 'Ja', 'Nein'))\n",
    "if (option == 'Ja'):\n",
    "    st.text('Du wolltest es nicht anders...')\n",
    "    st.image('https://img-9gag-fun.9cache.com/photo/aGgXrwz_460s.jpg')\n",
    "elif (option == 'Bitte auswählen...'):\n",
    "    st.text('Bitte wähle Ja oder Nein')\n",
    "else:\n",
    "    st.text('Dann halt nicht...')\n",
    "\n",
    "file.close()"
   ]
  },
  {
   "cell_type": "code",
   "execution_count": null,
   "id": "1484852f",
   "metadata": {},
   "outputs": [],
   "source": []
  }
 ],
 "metadata": {
  "kernelspec": {
   "display_name": "Python 3 (ipykernel)",
   "language": "python",
   "name": "python3"
  },
  "language_info": {
   "codemirror_mode": {
    "name": "ipython",
    "version": 3
   },
   "file_extension": ".py",
   "mimetype": "text/x-python",
   "name": "python",
   "nbconvert_exporter": "python",
   "pygments_lexer": "ipython3",
   "version": "3.9.7"
  }
 },
 "nbformat": 4,
 "nbformat_minor": 5
}
